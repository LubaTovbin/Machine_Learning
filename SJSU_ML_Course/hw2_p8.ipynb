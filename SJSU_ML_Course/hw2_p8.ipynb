{
 "cells": [
  {
   "cell_type": "code",
   "execution_count": 36,
   "metadata": {},
   "outputs": [],
   "source": [
    "#### CREDITS: Wencen Wu ####\n",
    "import numpy as np\n",
    "\n",
    "#parameters\n",
    "rad = 10\n",
    "thk = 5\n",
    "sep = 5\n",
    "\n",
    "#n data points,(x1,y1) are the coordinates of the top semi-circle\n",
    "def generatedata(rad,thk,sep,n,x1 = 0,y1 = 0):\n",
    "    # center of the top semi-circle\n",
    "    X1 = x1\n",
    "    Y1 = y1\n",
    "\n",
    "    # center of the bottom semi-circle\n",
    "    X2 = X1 + rad + thk / 2\n",
    "    Y2 = Y1 - sep\n",
    "    \n",
    "    # data points in the top semi-circle\n",
    "    top = []\n",
    "    # data points in the bottom semi-circle\n",
    "    bottom = []\n",
    "    \n",
    "    # parameters\n",
    "    r1 = rad + thk\n",
    "    r2 = rad\n",
    "    \n",
    "    cnt = 1\n",
    "    while(cnt <= n):\n",
    "        #uniformed generated points\n",
    "        x = np.random.uniform(-r1,r1)\n",
    "        y = np.random.uniform(-r1,r1)\n",
    "        \n",
    "        d = x**2 + y**2\n",
    "        if(d >= r2**2 and d <= r1**2):\n",
    "            if (y > 0):\n",
    "                top.append([X1 + x,Y1 + y])\n",
    "                cnt += 1\n",
    "            else:\n",
    "                bottom.append([X2 + x,Y2 + y])\n",
    "                cnt += 1\n",
    "        else:\n",
    "            continue\n",
    "\n",
    "    return top,bottom"
   ]
  },
  {
   "cell_type": "code",
   "execution_count": 37,
   "metadata": {},
   "outputs": [],
   "source": [
    "import random\n",
    "# Perceptron Learning Algorithm\n",
    "def PLA(max_iter,sep, w0=0, w1=0, w2=0):\n",
    "    \n",
    "    top,bottom = generatedata(rad,thk,sep,2000)\n",
    "    \n",
    "    X1 = [i[0] for i in top]\n",
    "    Y1 = [i[1] for i in top]\n",
    "    X2 = [i[0] for i in bottom]\n",
    "    Y2 = [i[1] for i in bottom]\n",
    "    \n",
    "    # flag to indicate that no missclassified points left\n",
    "    done = False\n",
    "    # inetrations counter\n",
    "    k = 0\n",
    "    \n",
    "    while done == False and k < max_iter:       \n",
    "        for i in np.random.permutation(len(top)+len(bottom)):\n",
    "            done = True\n",
    "            if i < len(top): #top\n",
    "                z = -1.0  \n",
    "                s = w0 + w1*X1[i] + w2*Y1[i]\n",
    "                if  s*z <= 0:                        \n",
    "                    w0= w0 + z\n",
    "                    w1= w1 + z*X1[i]\n",
    "                    w2= w2 + z*Y1[i]\n",
    "                    done = False\n",
    "                    break      \n",
    "            else: #bottom\n",
    "                z = 1.0    \n",
    "                s = w0 + w1*X2[i-len(top)] + w2*Y2[i-len(top)]\n",
    "                if  s*z <= 0:                        \n",
    "                    w0= w0 + z\n",
    "                    w1= w1 + z*X2[i-len(top)]\n",
    "                    w2= w2 + z*Y2[i-len(top)]\n",
    "                    done = False\n",
    "                    break    \n",
    "        k= k + 1\n",
    "    return k\n",
    "    "
   ]
  },
  {
   "cell_type": "code",
   "execution_count": 38,
   "metadata": {},
   "outputs": [
    {
     "data": {
      "image/png": "[encoded data removed]",
      "text/plain": [
       "<Figure size 432x288 with 1 Axes>"
      ]
     },
     "metadata": {
      "needs_background": "light"
     },
     "output_type": "display_data"
    }
   ],
   "source": [
    "import matplotlib.pyplot as plt\n",
    "\n",
    "k = [] \n",
    "s = []\n",
    "sep = 0.2\n",
    "\n",
    "while sep <= 5.0:\n",
    "    k.append(PLA(1000,sep, w0=0.0, w1=0.0, w2=0.0))\n",
    "    s.append(sep)\n",
    "    sep += 0.2\n",
    "        \n",
    "plt.scatter(s,k)\n",
    "plt.xlabel('sep')\n",
    "plt.ylabel('number of iterations')\n",
    "plt.show()\n",
    "   "
   ]
  },
  {
   "cell_type": "markdown",
   "metadata": {},
   "source": [
    "If the data is lineary separable, the PLA will converge."
   ]
  }
 ],
 "metadata": {
  "kernelspec": {
   "display_name": "Python 3",
   "language": "python",
   "name": "python3"
  },
  "language_info": {
   "codemirror_mode": {
    "name": "ipython",
    "version": 3
   },
   "file_extension": ".py",
   "mimetype": "text/x-python",
   "name": "python",
   "nbconvert_exporter": "python",
   "pygments_lexer": "ipython3",
   "version": "3.7.1"
  }
 },
 "nbformat": 4,
 "nbformat_minor": 2
}
