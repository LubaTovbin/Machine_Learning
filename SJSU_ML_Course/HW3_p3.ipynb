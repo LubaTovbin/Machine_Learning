{
 "cells": [
  {
   "cell_type": "code",
   "execution_count": 77,
   "metadata": {},
   "outputs": [],
   "source": [
    "import numpy as np\n",
    "\n",
    "# input points (x1, x2) where -1<= x1 <= 1 and -1<= x2 <= 1\n",
    "\n",
    "def generate_data(n):\n",
    "    top_x1 =[]\n",
    "    top_x2 =[]\n",
    "    bottom_x1 =[]\n",
    "    bottom_x2 =[]\n",
    "     \n",
    "    cnt = 1\n",
    "    while(cnt <= n):\n",
    "        top_x1.append(np.random.uniform(0.0,1.0)) \n",
    "        top_x2.append(np.random.uniform(0.0,1.0))\n",
    "        cnt += 1\n",
    "        \n",
    "    cnt = 1\n",
    "    while(cnt <= n):\n",
    "        bottom_x1.append(np.random.uniform(-1.0,0.0)) \n",
    "        bottom_x2.append(np.random.uniform(-1.0,0.0))\n",
    "        cnt += 1\n",
    "            \n",
    "    return top_x1,top_x2,bottom_x1,bottom_x2\n"
   ]
  },
  {
   "cell_type": "code",
   "execution_count": 78,
   "metadata": {},
   "outputs": [],
   "source": [
    "def g_rand_g_svm(top_x1,top_x2,bottom_x1,bottom_x2):\n",
    "    # hypothesis is a horizontal maximum margin line, SVM\n",
    "    min_top = min(top_x2)\n",
    "    max_bottom = max(bottom_x2)\n",
    "    g_svm = (min_top + max_bottom)/2\n",
    "    \n",
    "    # hypothesis is a random hrizontal line\n",
    "    g_rand = np.random.uniform(-1.0,1.0)\n",
    "    return g_rand,g_svm"
   ]
  },
  {
   "cell_type": "code",
   "execution_count": 79,
   "metadata": {},
   "outputs": [
    {
     "data": {
      "image/png": "[encoded data removed]",
      "text/plain": [
       "<Figure size 432x288 with 1 Axes>"
      ]
     },
     "metadata": {
      "needs_background": "light"
     },
     "output_type": "display_data"
    },
    {
     "name": "stdout",
     "output_type": "stream",
     "text": [
      "g_Random =  -0.4063583097910213\n",
      "g_SVM =  -0.06750042731540101\n"
     ]
    }
   ],
   "source": [
    "import matplotlib.pyplot as plt\n",
    "\n",
    "top_x1,top_x2,bottom_x1,bottom_x2 = generate_data(3)\n",
    "plt.scatter(top_x1,top_x2)\n",
    "plt.scatter(bottom_x1,bottom_x2)\n",
    "    \n",
    "g_rand,g_svm = g_rand_g_svm(top_x1,top_x2,bottom_x1,bottom_x2)\n",
    "plt.hlines(y=g_svm, xmin=-1.0, xmax=1.0, linewidth=2, color='blue', label= 'g_SVM')\n",
    "plt.hlines(y=g_rand, xmin=-1.0, xmax=1.0, linewidth=2, color='green', label= 'g_Random')\n",
    "plt.legend(loc= 'best')\n",
    "plt.show()  \n",
    "\n",
    "print(\"g_Random = \", g_rand)\n",
    "print(\"g_SVM = \", g_svm)"
   ]
  },
  {
   "cell_type": "code",
   "execution_count": 80,
   "metadata": {},
   "outputs": [
    {
     "data": {
      "image/png": "[encoded data removed]",
      "text/plain": [
       "<Figure size 432x288 with 1 Axes>"
      ]
     },
     "metadata": {
      "needs_background": "light"
     },
     "output_type": "display_data"
    }
   ],
   "source": [
    "a_rand = []\n",
    "a_svm = []\n",
    "cnt = 1\n",
    "while (cnt <=1000000):\n",
    "    top_x1,top_x2,bottom_x1,bottom_x2 = generate_data(3)\n",
    "    g_rand,g_svm = g_rand_g_svm(top_x1,top_x2,bottom_x1,bottom_x2)\n",
    "    \n",
    "    a_rand.append(g_rand)\n",
    "    a_svm.append(g_svm)\n",
    "    \n",
    "    cnt +=1\n",
    "    \n",
    "plt.hist(a_rand,10, histtype='bar', align='mid', color='g', rwidth=0.8)\n",
    "plt.title('a_Random')\n",
    "\n",
    "plt.hist(a_svm,10, histtype='bar', align='mid', color='b', rwidth=0.6)\n",
    "plt.title('a_SVM')\n",
    "\n",
    "plt.show()"
   ]
  },
  {
   "cell_type": "markdown",
   "metadata": {},
   "source": [
    "The resulting a_random values (in green) are uniformly distributed, as expected, with\n",
    "mean= (-1+1)/2=0 and variance= (1+1)^2/12=1/3=0.67\n",
    "The resulting a_svm values (in blue) are normally distributed around zero with variance < 0.25\n",
    "Thus, for both algorithms the bias= mean - f_target = 0-0 = 0\n",
    "\n",
    "Both algorithms draw from the same hypothesis set, but SVM adds the constraint of maximum margin. Consequently, SVM has less degrees of freedom comparing to Random Line algorithm, resulting in much less variance.\n"
   ]
  }
 ],
 "metadata": {
  "kernelspec": {
   "display_name": "Python 3",
   "language": "python",
   "name": "python3"
  },
  "language_info": {
   "codemirror_mode": {
    "name": "ipython",
    "version": 3
   },
   "file_extension": ".py",
   "mimetype": "text/x-python",
   "name": "python",
   "nbconvert_exporter": "python",
   "pygments_lexer": "ipython3",
   "version": "3.7.1"
  }
 },
 "nbformat": 4,
 "nbformat_minor": 2
}
