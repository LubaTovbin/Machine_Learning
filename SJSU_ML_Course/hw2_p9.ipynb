{
 "cells": [
  {
   "cell_type": "code",
   "execution_count": 129,
   "metadata": {},
   "outputs": [],
   "source": [
    "#### CREDITS: Wencen Wu ####\n",
    "import numpy as np\n",
    "\n",
    "#parameters\n",
    "rad = 10\n",
    "thk = 5\n",
    "sep = -5\n",
    "\n",
    "#n data points,(x1,y1) are the coordinates of the top semi-circle\n",
    "def generatedata(rad,thk,sep,n,x1 = 0,y1 = 0):\n",
    "    # center of the top semi-circle\n",
    "    X1 = x1\n",
    "    Y1 = y1\n",
    "\n",
    "    # center of the bottom semi-circle\n",
    "    X2 = X1 + rad + thk / 2\n",
    "    Y2 = Y1 - sep\n",
    "    \n",
    "    # data points in the top semi-circle\n",
    "    top = []\n",
    "    # data points in the bottom semi-circle\n",
    "    bottom = []\n",
    "    \n",
    "    # parameters\n",
    "    r1 = rad + thk\n",
    "    r2 = rad\n",
    "    \n",
    "    cnt = 1\n",
    "    while(cnt <= n):\n",
    "        #uniformed generated points\n",
    "        x = np.random.uniform(-r1,r1)\n",
    "        y = np.random.uniform(-r1,r1)\n",
    "        \n",
    "        d = x**2 + y**2\n",
    "        if(d >= r2**2 and d <= r1**2):\n",
    "            if (y > 0):\n",
    "                top.append([X1 + x,Y1 + y])\n",
    "                cnt += 1\n",
    "            else:\n",
    "                bottom.append([X2 + x,Y2 + y])\n",
    "                cnt += 1\n",
    "        else:\n",
    "            continue\n",
    "\n",
    "    return top,bottom"
   ]
  },
  {
   "cell_type": "markdown",
   "metadata": {},
   "source": [
    "a) The PLA will never be able to converge."
   ]
  },
  {
   "cell_type": "code",
   "execution_count": 130,
   "metadata": {},
   "outputs": [],
   "source": [
    "import random\n",
    "import matplotlib.pyplot as plt\n",
    "\n",
    "# the pocket algorithm\n",
    "# returns w0, w1, w2, the weights\n",
    "# X1,Y1 in top semisircle, f(X1,Y1) = -1\n",
    "# X2,Y2 in bottom semicircle, f(X2,Y2) = 1\n",
    "\n",
    "def error(X1,Y1,X2,Y2,w0,w1,w2):\n",
    "    misclasified = 0  \n",
    "    for i in range(len(X1)): #top semicircle\n",
    "        z = -1.0  \n",
    "        s = w0 + w1*X1[i] + w2*Y1[i]\n",
    "        if  s*z <= 0:          \n",
    "            misclasified += 1 \n",
    "            \n",
    "    for i in range(len(X2)): #bottom semicircle\n",
    "        z = 1.0  \n",
    "        s = w0 + w1*X2[i] + w2*Y2[i]\n",
    "        if  s*z <= 0:\n",
    "            misclasified += 1\n",
    "    return misclasified\n",
    "\n",
    "def Pocket(X1,Y1,X2,Y2,max_iter,w0 = 0.0,w1 = 0.0,w2 = 0.0):\n",
    "    \n",
    "    # flag to indicate that no missclassified points left\n",
    "    done = False\n",
    "    # inetrations counter\n",
    "    k = 0\n",
    "    Ein = []\n",
    "    iteration = []\n",
    "    while done == False and k < max_iter:       \n",
    "        for i in np.random.permutation(len(top)+len(bottom)):\n",
    "            e = error(X1,Y1,X2,Y2,w0,w1,w2)\n",
    "            Ein.append(e)\n",
    "            iteration.append(k)\n",
    "            done = True\n",
    "            if i < len(top): #top\n",
    "                z = -1.0  \n",
    "                s = w0 + w1*X1[i] + w2*Y1[i]\n",
    "                if  s*z <= 0:                        \n",
    "                    w0_try = w0 + z\n",
    "                    w1_try = w1 + z*X1[i]\n",
    "                    w2_try = w2 + z*Y1[i]                    \n",
    "                    done = False\n",
    "                    break      \n",
    "            else: #bottom\n",
    "                z = 1.0    \n",
    "                s = w0 + w1*X2[i-len(top)] + w2*Y2[i-len(top)]\n",
    "                if  s*z <= 0:                        \n",
    "                    w0_try = w0 + z\n",
    "                    w1_try = w1 + z*X2[i-len(top)]\n",
    "                    w2_try = w2 + z*Y2[i-len(top)]\n",
    "                    done = False\n",
    "                    break \n",
    "        if e > error(X1,Y1,X2,Y2,w0_try,w1_try,w2_try):\n",
    "            w0 = w0_try \n",
    "            w1 = w1_try \n",
    "            w2 = w2_try \n",
    "        k= k + 1\n",
    "      \n",
    "    return w0, w1, w2, iteration, Ein\n",
    "       "
   ]
  },
  {
   "cell_type": "code",
   "execution_count": 131,
   "metadata": {},
   "outputs": [],
   "source": [
    "#Linear Regression\n",
    "def LinReg(top,bottom):\n",
    "    \n",
    "    # Create outputs vector\n",
    "    z_top = [-1.0]*len(top)\n",
    "    z_bottom = [1.0]*len(bottom)\n",
    "    z = np.array(z_top + z_bottom)\n",
    "\n",
    "    # Create data matrix\n",
    "    for i in top:\n",
    "        i.insert(0,1.0)\n",
    "    for i in bottom:\n",
    "        i.insert(0,1.0)     \n",
    "    D = np.matrix(top + bottom)\n",
    "\n",
    "    D_t = D.transpose()\n",
    "    X = np.dot(D_t, D)\n",
    "\n",
    "    # pseudo inverse\n",
    "    X_p_inv = np.dot(X.I, D_t)\n",
    "\n",
    "    # calculatae weights\n",
    "    w = np.dot(X_p_inv, z)\n",
    "    \n",
    "    return w\n"
   ]
  },
  {
   "cell_type": "code",
   "execution_count": 132,
   "metadata": {},
   "outputs": [
    {
     "data": {
      "image/png": "[encoded data removed]",
      "text/plain": [
       "<Figure size 432x288 with 1 Axes>"
      ]
     },
     "metadata": {
      "needs_background": "light"
     },
     "output_type": "display_data"
    }
   ],
   "source": [
    "top,bottom = generatedata(rad,thk,sep,2000)\n",
    "X1 = [i[0] for i in top]\n",
    "Y1 = [i[1] for i in top]\n",
    "X2 = [i[0] for i in bottom]\n",
    "Y2 = [i[1] for i in bottom]\n",
    "\n",
    "#plot the data\n",
    "plt.scatter(X1,Y1,s = 1)\n",
    "plt.scatter(X2,Y2,s = 1)\n",
    "\n",
    "w0_p, w1_p, w2_p, iteration, Ein = Pocket(X1,Y1,X2,Y2,100000,w0= 0.0,w1= 0.0,w2= 0.0)\n",
    "w = LinReg(top,bottom)\n",
    "\n",
    "# plot the final hypothesis from PLA\n",
    "t= np.arange(-20,30)\n",
    "g_pla= -(w1_p*t)/w2_p - w0_p/w2_p\n",
    "plt.plot(t, g_pla, linestyle='-', color='green', label= 'pocket')\n",
    "\n",
    "\n",
    "# plot the final hypothesis from Linear Regression\n",
    "g_lr= -(w[0,1]*t)/w[0,2] - w[0,0]/w[0,2]\n",
    "plt.plot(t, g_lr, linestyle='-', color='black', label= 'LR')\n",
    "\n",
    "plt.legend(loc= 'best')\n",
    "plt.show()   \n",
    "\n"
   ]
  },
  {
   "cell_type": "code",
   "execution_count": 138,
   "metadata": {},
   "outputs": [
    {
     "name": "stdout",
     "output_type": "stream",
     "text": [
      "The number of misclassified point after running PLA is\n",
      "170\n",
      "The number of misclassified point after running Linear Regression is\n",
      "192\n"
     ]
    },
    {
     "data": {
      "image/png": "[encoded data removed]",
      "text/plain": [
       "<Figure size 432x288 with 1 Axes>"
      ]
     },
     "metadata": {
      "needs_background": "light"
     },
     "output_type": "display_data"
    }
   ],
   "source": [
    "print(\"The number of misclassified point after running PLA is\")\n",
    "print(Ein[99999])\n",
    "\n",
    "print(\"The number of misclassified point after running Linear Regression is\")\n",
    "print(error(X1,Y1,X2,Y2,w[0,0],w[0,1],w[0,2]))\n",
    "# plot E_in vs. iteration\n",
    "plt.scatter(iteration,Ein, s = 1 )\n",
    "plt.xlabel('iteration number')\n",
    "plt.ylabel('E_in')\n",
    "plt.show()"
   ]
  },
  {
   "cell_type": "markdown",
   "metadata": {},
   "source": [
    "The Pocket algorithm takes about 15 minutes to finish all 100,000 iteration, while Linear Regression returns result immediately. PLA results in fewer misclassified points."
   ]
  }
 ],
 "metadata": {
  "kernelspec": {
   "display_name": "Python 3",
   "language": "python",
   "name": "python3"
  },
  "language_info": {
   "codemirror_mode": {
    "name": "ipython",
    "version": 3
   },
   "file_extension": ".py",
   "mimetype": "text/x-python",
   "name": "python",
   "nbconvert_exporter": "python",
   "pygments_lexer": "ipython3",
   "version": "3.7.1"
  }
 },
 "nbformat": 4,
 "nbformat_minor": 2
}
